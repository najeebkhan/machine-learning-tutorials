{
 "cells": [
  {
   "cell_type": "markdown",
   "metadata": {},
   "source": [
    "Naive Bayes Classifier\n",
    "======================\n",
    "Fitting\n",
    "-------\n",
    "Bernoulli Naive Bayes (Taken from Murphy's book)\n",
    "<img src=\"fit.png\",width=600>\n",
    "Prediction\n",
    "----------\n",
    "$$ p(y=c\\,|\\,\\mathbf{x},\\mathcal{D}) \\propto \\pi_c\\prod_{j=1}^{D}(\\theta_{jc})^{x_j}(1-\\theta_{jc})^{1-x_j} $$"
   ]
  },
  {
   "cell_type": "code",
   "execution_count": 1,
   "metadata": {
    "collapsed": false
   },
   "outputs": [
    {
     "name": "stdout",
     "output_type": "stream",
     "text": [
      "[nltk_data] Downloading package movie_reviews to\n",
      "[nltk_data]     /home/najeeb/nltk_data...\n",
      "[nltk_data]   Package movie_reviews is already up-to-date!\n"
     ]
    },
    {
     "data": {
      "text/plain": [
       "True"
      ]
     },
     "execution_count": 1,
     "metadata": {},
     "output_type": "execute_result"
    }
   ],
   "source": [
    "import random\n",
    "import nltk\n",
    "from sklearn.naive_bayes import BernoulliNB, MultinomialNB\n",
    "from sklearn.metrics import accuracy_score\n",
    "from sklearn.model_selection import cross_val_score\n",
    "nltk.download('movie_reviews')"
   ]
  },
  {
   "cell_type": "markdown",
   "metadata": {},
   "source": [
    "Preprocessing\n",
    "-------------"
   ]
  },
  {
   "cell_type": "code",
   "execution_count": 2,
   "metadata": {
    "collapsed": false
   },
   "outputs": [],
   "source": [
    "from nltk.corpus import movie_reviews\n",
    "documents = [(list(movie_reviews.words(fileid)), category)\n",
    "              for category in movie_reviews.categories()\n",
    "              for fileid in movie_reviews.fileids(category)]\n",
    "random.shuffle(documents)\n",
    "all_words = nltk.FreqDist(w.lower() for w in movie_reviews.words())\n",
    "word_features = list(all_words)[:2000]"
   ]
  },
  {
   "cell_type": "code",
   "execution_count": 3,
   "metadata": {
    "collapsed": true
   },
   "outputs": [],
   "source": [
    "def get_features(text):\n",
    "    document_words = set(text)\n",
    "    features = []\n",
    "    for word in word_features:\n",
    "        features.append(word in document_words)\n",
    "    return features"
   ]
  },
  {
   "cell_type": "code",
   "execution_count": 4,
   "metadata": {
    "collapsed": false
   },
   "outputs": [],
   "source": [
    "#print(get_features(movie_reviews.words('pos/cv957_8737.txt'))) \n",
    "xData=[]\n",
    "yData=[]\n",
    "for (d,c) in documents:\n",
    "    xData.append(get_features(d))\n",
    "    if c=='pos':\n",
    "        yData.append(True)\n",
    "    else:\n",
    "        yData.append(False)    "
   ]
  },
  {
   "cell_type": "markdown",
   "metadata": {},
   "source": [
    "Classification\n",
    "--------------"
   ]
  },
  {
   "cell_type": "code",
   "execution_count": 5,
   "metadata": {
    "collapsed": false
   },
   "outputs": [
    {
     "name": "stdout",
     "output_type": "stream",
     "text": [
      "[ 0.685  0.69   0.705  0.7    0.7    0.65   0.7    0.76   0.65   0.68 ]\n"
     ]
    }
   ],
   "source": [
    "#clf = MultinomialNB()\n",
    "clf = BernoulliNB()\n",
    "print(cross_val_score(clf, xData, yData, cv=10))\n",
    "#clf.fit(xData, yData)\n",
    "#accuracy_score(yData, clf.predict(xData))\n",
    "#f1_score(yData, clf.predict(xData), average='binary')  "
   ]
  },
  {
   "cell_type": "markdown",
   "metadata": {},
   "source": [
    "<img src=\"XV.png\",width=300>"
   ]
  }
 ],
 "metadata": {
  "anaconda-cloud": {},
  "kernelspec": {
   "display_name": "Python [Root]",
   "language": "python",
   "name": "Python [Root]"
  },
  "language_info": {
   "codemirror_mode": {
    "name": "ipython",
    "version": 3
   },
   "file_extension": ".py",
   "mimetype": "text/x-python",
   "name": "python",
   "nbconvert_exporter": "python",
   "pygments_lexer": "ipython3",
   "version": "3.5.2"
  }
 },
 "nbformat": 4,
 "nbformat_minor": 0
}
